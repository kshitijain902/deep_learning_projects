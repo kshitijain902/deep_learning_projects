{
  "nbformat": 4,
  "nbformat_minor": 0,
  "metadata": {
    "colab": {
      "provenance": [],
      "gpuType": "T4",
      "authorship_tag": "ABX9TyMyS+JDyQF5BqwK1J5RjGjB",
      "include_colab_link": true
    },
    "kernelspec": {
      "name": "python3",
      "display_name": "Python 3"
    },
    "language_info": {
      "name": "python"
    },
    "accelerator": "GPU"
  },
  "cells": [
    {
      "cell_type": "markdown",
      "metadata": {
        "id": "view-in-github",
        "colab_type": "text"
      },
      "source": [
        "<a href=\"https://colab.research.google.com/github/kshitijain902/deep_learning_projects/blob/main/transfer_learning_on_cifar10.ipynb\" target=\"_parent\"><img src=\"https://colab.research.google.com/assets/colab-badge.svg\" alt=\"Open In Colab\"/></a>"
      ]
    },
    {
      "cell_type": "code",
      "source": [
        "import numpy as np\n",
        "from keras.datasets import cifar10\n",
        "from keras.utils import to_categorical\n",
        "from keras.applications.vgg16 import VGG16\n",
        "from keras.models import Sequential\n",
        "from keras.layers import Dense, Flatten\n",
        "from keras.optimizers import Adam\n"
      ],
      "metadata": {
        "id": "34L8H3dhHmLJ"
      },
      "execution_count": 6,
      "outputs": []
    },
    {
      "cell_type": "code",
      "source": [
        "(x_train, y_train), (x_test, y_test) = cifar10.load_data()"
      ],
      "metadata": {
        "id": "j2Hz72H3HwbC"
      },
      "execution_count": 7,
      "outputs": []
    },
    {
      "cell_type": "code",
      "source": [
        "# Preprocess the data\n",
        "x_train = x_train.astype('float32') / 255.0\n",
        "x_test = x_test.astype('float32') / 255.0\n",
        "y_train = to_categorical(y_train)\n",
        "y_test = to_categorical(y_test)\n"
      ],
      "metadata": {
        "id": "INIiVV2cqNds"
      },
      "execution_count": 8,
      "outputs": []
    },
    {
      "cell_type": "code",
      "source": [
        "# Load pre-trained VGG16 model without top layers\n",
        "base_model = VGG16(weights='imagenet', include_top=False, input_shape=(32, 32, 3))"
      ],
      "metadata": {
        "colab": {
          "base_uri": "https://localhost:8080/"
        },
        "id": "ZfRogwLCIfBe",
        "outputId": "23705c3c-7c45-40c7-fbe7-0d31a8a3183c"
      },
      "execution_count": 9,
      "outputs": [
        {
          "output_type": "stream",
          "name": "stdout",
          "text": [
            "Downloading data from https://storage.googleapis.com/tensorflow/keras-applications/vgg16/vgg16_weights_tf_dim_ordering_tf_kernels_notop.h5\n",
            "58889256/58889256 [==============================] - 0s 0us/step\n"
          ]
        }
      ]
    },
    {
      "cell_type": "code",
      "source": [
        "# Freeze the base model layers\n",
        "for layer in base_model.layers:\n",
        "    layer.trainable = False\n"
      ],
      "metadata": {
        "id": "UpidTRKml_sv"
      },
      "execution_count": 10,
      "outputs": []
    },
    {
      "cell_type": "code",
      "source": [
        "# Create a new model\n",
        "model = Sequential()\n",
        "model.add(base_model)\n",
        "model.add(Flatten())\n",
        "model.add(Dense(256, activation='relu'))\n",
        "model.add(Dense(10, activation='softmax'))"
      ],
      "metadata": {
        "id": "9ccwFwmfmNtm"
      },
      "execution_count": 11,
      "outputs": []
    },
    {
      "cell_type": "code",
      "source": [
        "# Compile the model\n",
        "model.compile(optimizer=Adam(), loss='categorical_crossentropy', metrics=['accuracy'])"
      ],
      "metadata": {
        "id": "wwxqSOeWmgEy"
      },
      "execution_count": 12,
      "outputs": []
    },
    {
      "cell_type": "code",
      "source": [
        "# Train the model\n",
        "model.fit(x_train, y_train, batch_size=64, epochs=10, validation_data=(x_test, y_test))"
      ],
      "metadata": {
        "colab": {
          "base_uri": "https://localhost:8080/"
        },
        "id": "wWjvUUZFqyQ1",
        "outputId": "019ac5fb-02b4-48c3-a606-f8ccd02537be"
      },
      "execution_count": 14,
      "outputs": [
        {
          "output_type": "stream",
          "name": "stdout",
          "text": [
            "Epoch 1/10\n",
            "782/782 [==============================] - 11s 14ms/step - loss: 1.2828 - accuracy: 0.5525 - val_loss: 1.2294 - val_accuracy: 0.5701\n",
            "Epoch 2/10\n",
            "782/782 [==============================] - 11s 14ms/step - loss: 1.1700 - accuracy: 0.5919 - val_loss: 1.2293 - val_accuracy: 0.5728\n",
            "Epoch 3/10\n",
            "782/782 [==============================] - 10s 13ms/step - loss: 1.1155 - accuracy: 0.6101 - val_loss: 1.1466 - val_accuracy: 0.5960\n",
            "Epoch 4/10\n",
            "782/782 [==============================] - 10s 13ms/step - loss: 1.0711 - accuracy: 0.6268 - val_loss: 1.1500 - val_accuracy: 0.5948\n",
            "Epoch 5/10\n",
            "782/782 [==============================] - 10s 13ms/step - loss: 1.0345 - accuracy: 0.6390 - val_loss: 1.1145 - val_accuracy: 0.6112\n",
            "Epoch 6/10\n",
            "782/782 [==============================] - 11s 14ms/step - loss: 1.0007 - accuracy: 0.6505 - val_loss: 1.1047 - val_accuracy: 0.6097\n",
            "Epoch 7/10\n",
            "782/782 [==============================] - 11s 14ms/step - loss: 0.9674 - accuracy: 0.6616 - val_loss: 1.0999 - val_accuracy: 0.6171\n",
            "Epoch 8/10\n",
            "782/782 [==============================] - 11s 14ms/step - loss: 0.9387 - accuracy: 0.6725 - val_loss: 1.1066 - val_accuracy: 0.6185\n",
            "Epoch 9/10\n",
            "782/782 [==============================] - 11s 14ms/step - loss: 0.9128 - accuracy: 0.6820 - val_loss: 1.0961 - val_accuracy: 0.6201\n",
            "Epoch 10/10\n",
            "782/782 [==============================] - 10s 13ms/step - loss: 0.8869 - accuracy: 0.6903 - val_loss: 1.1011 - val_accuracy: 0.6190\n"
          ]
        },
        {
          "output_type": "execute_result",
          "data": {
            "text/plain": [
              "<keras.callbacks.History at 0x7fbcdfa32bf0>"
            ]
          },
          "metadata": {},
          "execution_count": 14
        }
      ]
    },
    {
      "cell_type": "code",
      "source": [
        "_, accuracy = model.evaluate(x_test, y_test)\n",
        "print(\"Accuracy: %.2f%%\" % (accuracy * 100))"
      ],
      "metadata": {
        "colab": {
          "base_uri": "https://localhost:8080/"
        },
        "id": "Pux95RCUq4Ao",
        "outputId": "9b9934f6-aa5c-451f-c9a7-684192de1ee6"
      },
      "execution_count": 16,
      "outputs": [
        {
          "output_type": "stream",
          "name": "stdout",
          "text": [
            "313/313 [==============================] - 3s 9ms/step - loss: 1.1011 - accuracy: 0.6190\n",
            "Accuracy: 61.90%\n"
          ]
        }
      ]
    },
    {
      "cell_type": "code",
      "source": [],
      "metadata": {
        "id": "lCpARnOprUk1"
      },
      "execution_count": null,
      "outputs": []
    }
  ]
}